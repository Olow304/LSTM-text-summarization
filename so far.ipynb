{
 "cells": [
  {
   "cell_type": "code",
   "execution_count": 1,
   "metadata": {
    "ExecuteTime": {
     "end_time": "2019-01-26T18:29:27.412897Z",
     "start_time": "2019-01-26T18:29:17.224856Z"
    }
   },
   "outputs": [],
   "source": [
    "import pandas as pd\n",
    "import numpy as np\n",
    "import os, sys\n",
    "import csv\n",
    "import re"
   ]
  },
  {
   "cell_type": "code",
   "execution_count": 2,
   "metadata": {
    "ExecuteTime": {
     "end_time": "2019-01-26T18:29:29.275317Z",
     "start_time": "2019-01-26T18:29:29.269321Z"
    }
   },
   "outputs": [],
   "source": [
    "# convert .sent/.summ file type into .txt\n",
    "train_data = 'data/cnn/training/'\n",
    "test_data = 'data/cnn/test/'"
   ]
  },
  {
   "cell_type": "code",
   "execution_count": 3,
   "metadata": {
    "ExecuteTime": {
     "end_time": "2019-01-26T18:29:31.381048Z",
     "start_time": "2019-01-26T18:29:31.350066Z"
    }
   },
   "outputs": [],
   "source": [
    "def rename_train_article(path_file):\n",
    "    index = 0\n",
    "    for filename in os.listdir(path_file):\n",
    "        index += 1\n",
    "        if filename.endswith('.sent'):\n",
    "            #print(filename, index)\n",
    "            rename = \"article-\" + str(index) + \".txt\"\n",
    "            src = path_file + filename\n",
    "            dst = path_file + rename\n",
    "\n",
    "            os.rename(src, dst)\n",
    "            #print(rename)\n",
    "            \n",
    "def rename_train_summary(path_file):\n",
    "    i = 1\n",
    "    for filename in os.listdir(path_file):\n",
    "        if filename.endswith(\".summ\"):\n",
    "            rename = \"summary-\" + str(i) + \".txt\"\n",
    "            src = path_file + filename\n",
    "            dst = path_file + rename\n",
    "            os.rename(src, dst)\n",
    "            i += 2"
   ]
  },
  {
   "cell_type": "code",
   "execution_count": 4,
   "metadata": {
    "ExecuteTime": {
     "end_time": "2019-01-26T18:29:45.759125Z",
     "start_time": "2019-01-26T18:29:45.741137Z"
    }
   },
   "outputs": [],
   "source": [
    "def rename_test_article(path_file):\n",
    "    i = 0\n",
    "    for filename in os.listdir(path_file):\n",
    "        i += 1\n",
    "        if filename.endswith('.sent'):\n",
    "            rename = \"article-\" + str(i) + \".txt\"\n",
    "            src = path_file + filename\n",
    "            dst = path_file + rename\n",
    "\n",
    "            os.rename(src, dst)\n",
    "#rename_test_article(test_data)"
   ]
  },
  {
   "cell_type": "code",
   "execution_count": 5,
   "metadata": {
    "ExecuteTime": {
     "end_time": "2019-01-26T18:29:46.461918Z",
     "start_time": "2019-01-26T18:29:46.446928Z"
    }
   },
   "outputs": [],
   "source": [
    "def rename_test_summary(path_file):\n",
    "    i = 1\n",
    "    for filename in os.listdir(path_file):\n",
    "        if filename.endswith('.summ'):\n",
    "            rename = \"summary-\" + str(i) + \".txt\"\n",
    "            src = path_file + filename\n",
    "            dst = path_file + rename\n",
    "            os.rename(src, dst)\n",
    "            i += 2\n",
    "#rename_test_summary(test_data)"
   ]
  },
  {
   "cell_type": "code",
   "execution_count": 8,
   "metadata": {
    "ExecuteTime": {
     "end_time": "2019-01-26T19:05:54.218766Z",
     "start_time": "2019-01-26T19:05:51.067556Z"
    }
   },
   "outputs": [
    {
     "ename": "AssertionError",
     "evalue": "8 columns passed, passed data had 263 columns",
     "output_type": "error",
     "traceback": [
      "\u001b[1;31m---------------------------------------------------------------------------\u001b[0m",
      "\u001b[1;31mAssertionError\u001b[0m                            Traceback (most recent call last)",
      "\u001b[1;32m<ipython-input-8-6d27f2e11c40>\u001b[0m in \u001b[0;36m<module>\u001b[1;34m()\u001b[0m\n\u001b[0;32m     18\u001b[0m             \u001b[1;31m#print(reader)\u001b[0m\u001b[1;33m\u001b[0m\u001b[1;33m\u001b[0m\u001b[0m\n\u001b[0;32m     19\u001b[0m \u001b[1;33m\u001b[0m\u001b[0m\n\u001b[1;32m---> 20\u001b[1;33m \u001b[0marticles_data\u001b[0m \u001b[1;33m=\u001b[0m \u001b[0mpd\u001b[0m\u001b[1;33m.\u001b[0m\u001b[0mDataFrame\u001b[0m\u001b[1;33m(\u001b[0m\u001b[0marticle_lists\u001b[0m\u001b[1;33m,\u001b[0m \u001b[0mcolumns\u001b[0m\u001b[1;33m=\u001b[0m\u001b[1;34m\"articles\"\u001b[0m\u001b[1;33m)\u001b[0m\u001b[1;33m\u001b[0m\u001b[0m\n\u001b[0m",
      "\u001b[1;32m~\\Anaconda3\\lib\\site-packages\\pandas\\core\\frame.py\u001b[0m in \u001b[0;36m__init__\u001b[1;34m(self, data, index, columns, dtype, copy)\u001b[0m\n\u001b[0;32m    367\u001b[0m                     \u001b[1;32mif\u001b[0m \u001b[0mis_named_tuple\u001b[0m\u001b[1;33m(\u001b[0m\u001b[0mdata\u001b[0m\u001b[1;33m[\u001b[0m\u001b[1;36m0\u001b[0m\u001b[1;33m]\u001b[0m\u001b[1;33m)\u001b[0m \u001b[1;32mand\u001b[0m \u001b[0mcolumns\u001b[0m \u001b[1;32mis\u001b[0m \u001b[1;32mNone\u001b[0m\u001b[1;33m:\u001b[0m\u001b[1;33m\u001b[0m\u001b[0m\n\u001b[0;32m    368\u001b[0m                         \u001b[0mcolumns\u001b[0m \u001b[1;33m=\u001b[0m \u001b[0mdata\u001b[0m\u001b[1;33m[\u001b[0m\u001b[1;36m0\u001b[0m\u001b[1;33m]\u001b[0m\u001b[1;33m.\u001b[0m\u001b[0m_fields\u001b[0m\u001b[1;33m\u001b[0m\u001b[0m\n\u001b[1;32m--> 369\u001b[1;33m                     \u001b[0marrays\u001b[0m\u001b[1;33m,\u001b[0m \u001b[0mcolumns\u001b[0m \u001b[1;33m=\u001b[0m \u001b[0m_to_arrays\u001b[0m\u001b[1;33m(\u001b[0m\u001b[0mdata\u001b[0m\u001b[1;33m,\u001b[0m \u001b[0mcolumns\u001b[0m\u001b[1;33m,\u001b[0m \u001b[0mdtype\u001b[0m\u001b[1;33m=\u001b[0m\u001b[0mdtype\u001b[0m\u001b[1;33m)\u001b[0m\u001b[1;33m\u001b[0m\u001b[0m\n\u001b[0m\u001b[0;32m    370\u001b[0m                     \u001b[0mcolumns\u001b[0m \u001b[1;33m=\u001b[0m \u001b[0m_ensure_index\u001b[0m\u001b[1;33m(\u001b[0m\u001b[0mcolumns\u001b[0m\u001b[1;33m)\u001b[0m\u001b[1;33m\u001b[0m\u001b[0m\n\u001b[0;32m    371\u001b[0m \u001b[1;33m\u001b[0m\u001b[0m\n",
      "\u001b[1;32m~\\Anaconda3\\lib\\site-packages\\pandas\\core\\frame.py\u001b[0m in \u001b[0;36m_to_arrays\u001b[1;34m(data, columns, coerce_float, dtype)\u001b[0m\n\u001b[0;32m   6282\u001b[0m     \u001b[1;32mif\u001b[0m \u001b[0misinstance\u001b[0m\u001b[1;33m(\u001b[0m\u001b[0mdata\u001b[0m\u001b[1;33m[\u001b[0m\u001b[1;36m0\u001b[0m\u001b[1;33m]\u001b[0m\u001b[1;33m,\u001b[0m \u001b[1;33m(\u001b[0m\u001b[0mlist\u001b[0m\u001b[1;33m,\u001b[0m \u001b[0mtuple\u001b[0m\u001b[1;33m)\u001b[0m\u001b[1;33m)\u001b[0m\u001b[1;33m:\u001b[0m\u001b[1;33m\u001b[0m\u001b[0m\n\u001b[0;32m   6283\u001b[0m         return _list_to_arrays(data, columns, coerce_float=coerce_float,\n\u001b[1;32m-> 6284\u001b[1;33m                                dtype=dtype)\n\u001b[0m\u001b[0;32m   6285\u001b[0m     \u001b[1;32melif\u001b[0m \u001b[0misinstance\u001b[0m\u001b[1;33m(\u001b[0m\u001b[0mdata\u001b[0m\u001b[1;33m[\u001b[0m\u001b[1;36m0\u001b[0m\u001b[1;33m]\u001b[0m\u001b[1;33m,\u001b[0m \u001b[0mcollections\u001b[0m\u001b[1;33m.\u001b[0m\u001b[0mMapping\u001b[0m\u001b[1;33m)\u001b[0m\u001b[1;33m:\u001b[0m\u001b[1;33m\u001b[0m\u001b[0m\n\u001b[0;32m   6286\u001b[0m         return _list_of_dict_to_arrays(data, columns,\n",
      "\u001b[1;32m~\\Anaconda3\\lib\\site-packages\\pandas\\core\\frame.py\u001b[0m in \u001b[0;36m_list_to_arrays\u001b[1;34m(data, columns, coerce_float, dtype)\u001b[0m\n\u001b[0;32m   6361\u001b[0m         \u001b[0mcontent\u001b[0m \u001b[1;33m=\u001b[0m \u001b[0mlist\u001b[0m\u001b[1;33m(\u001b[0m\u001b[0mlib\u001b[0m\u001b[1;33m.\u001b[0m\u001b[0mto_object_array\u001b[0m\u001b[1;33m(\u001b[0m\u001b[0mdata\u001b[0m\u001b[1;33m)\u001b[0m\u001b[1;33m.\u001b[0m\u001b[0mT\u001b[0m\u001b[1;33m)\u001b[0m\u001b[1;33m\u001b[0m\u001b[0m\n\u001b[0;32m   6362\u001b[0m     return _convert_object_array(content, columns, dtype=dtype,\n\u001b[1;32m-> 6363\u001b[1;33m                                  coerce_float=coerce_float)\n\u001b[0m\u001b[0;32m   6364\u001b[0m \u001b[1;33m\u001b[0m\u001b[0m\n\u001b[0;32m   6365\u001b[0m \u001b[1;33m\u001b[0m\u001b[0m\n",
      "\u001b[1;32m~\\Anaconda3\\lib\\site-packages\\pandas\\core\\frame.py\u001b[0m in \u001b[0;36m_convert_object_array\u001b[1;34m(content, columns, coerce_float, dtype)\u001b[0m\n\u001b[0;32m   6418\u001b[0m             \u001b[1;31m# caller's responsibility to check for this...\u001b[0m\u001b[1;33m\u001b[0m\u001b[1;33m\u001b[0m\u001b[0m\n\u001b[0;32m   6419\u001b[0m             raise AssertionError('%d columns passed, passed data had %s '\n\u001b[1;32m-> 6420\u001b[1;33m                                  'columns' % (len(columns), len(content)))\n\u001b[0m\u001b[0;32m   6421\u001b[0m \u001b[1;33m\u001b[0m\u001b[0m\n\u001b[0;32m   6422\u001b[0m     \u001b[1;31m# provide soft conversion of object dtypes\u001b[0m\u001b[1;33m\u001b[0m\u001b[1;33m\u001b[0m\u001b[0m\n",
      "\u001b[1;31mAssertionError\u001b[0m: 8 columns passed, passed data had 263 columns"
     ]
    }
   ],
   "source": [
    "# convert into dataframe/csv\n",
    "# article_list = []\n",
    "# for filename in os.listdir(train_data):\n",
    "#     if filename.startswith(\"article-\"):\n",
    "#         path_arrs = train_data + filename\n",
    "#         df = pd.read_fwf(path_arrs, infe)\n",
    "#         article_list.append(df)\n",
    "        \n",
    "# data_train_articles = pd.concat(article_list, axis=0, ignore_index=True)\n",
    "\n",
    "article_lists = []\n",
    "for filename in os.listdir(train_data):\n",
    "    if filename.startswith('article-'):\n",
    "        path_arrs = train_data + filename\n",
    "        with open(path_arrs, 'r', encoding=\"utf8\") as f:\n",
    "            reader = f.readlines()\n",
    "            article_lists.append(reader)\n",
    "            #print(reader)\n",
    "\n",
    "articles_data = pd.DataFrame(article_lists, columns=\"articles\")\n"
   ]
  },
  {
   "cell_type": "code",
   "execution_count": 9,
   "metadata": {
    "ExecuteTime": {
     "end_time": "2019-01-26T19:05:56.847710Z",
     "start_time": "2019-01-26T19:05:56.829718Z"
    }
   },
   "outputs": [
    {
     "ename": "NameError",
     "evalue": "name 'articles_data' is not defined",
     "output_type": "error",
     "traceback": [
      "\u001b[1;31m---------------------------------------------------------------------------\u001b[0m",
      "\u001b[1;31mNameError\u001b[0m                                 Traceback (most recent call last)",
      "\u001b[1;32m<ipython-input-9-e4da81fa363f>\u001b[0m in \u001b[0;36m<module>\u001b[1;34m()\u001b[0m\n\u001b[1;32m----> 1\u001b[1;33m \u001b[0marticles_data\u001b[0m\u001b[1;33m\u001b[0m\u001b[0m\n\u001b[0m",
      "\u001b[1;31mNameError\u001b[0m: name 'articles_data' is not defined"
     ]
    }
   ],
   "source": [
    "articles_data"
   ]
  },
  {
   "cell_type": "code",
   "execution_count": 162,
   "metadata": {
    "ExecuteTime": {
     "end_time": "2019-01-26T03:35:31.903807Z",
     "start_time": "2019-01-26T03:35:31.898808Z"
    }
   },
   "outputs": [
    {
     "data": {
      "text/plain": [
       "6553"
      ]
     },
     "execution_count": 162,
     "metadata": {},
     "output_type": "execute_result"
    }
   ],
   "source": [
    "len(article_lists)"
   ]
  },
  {
   "cell_type": "code",
   "execution_count": 165,
   "metadata": {
    "ExecuteTime": {
     "end_time": "2019-01-26T03:35:38.799749Z",
     "start_time": "2019-01-26T03:35:38.794734Z"
    }
   },
   "outputs": [],
   "source": [
    "lst = [line.rstrip('\\n') for line in article_lists[0]]\n"
   ]
  },
  {
   "cell_type": "code",
   "execution_count": 166,
   "metadata": {
    "ExecuteTime": {
     "end_time": "2019-01-26T03:35:39.698218Z",
     "start_time": "2019-01-26T03:35:39.687221Z"
    }
   },
   "outputs": [
    {
     "data": {
      "text/plain": [
       "[\"It's official: U.S. President Barack Obama wants lawmakers to weigh in on whether to use military force in Syria.\",\n",
       " '',\n",
       " 'Obama sent a letter to the heads of the House and Senate on Saturday night, hours after announcing that he believes military action against Syrian targets is the right step to take over the alleged use of chemical weapons.',\n",
       " '',\n",
       " 'The proposed legislation from Obama asks Congress to approve the use of military force \"to deter, disrupt, prevent and degrade the potential for future uses of chemical weapons or other weapons of mass destruction.\"',\n",
       " '',\n",
       " \"It's a step that is set to turn an international crisis into a fierce domestic political battle.\",\n",
       " '',\n",
       " 'There are key questions looming over the debate: What did U.N. weapons inspectors find in Syria? What happens if Congress votes no? And how will the Syrian government react?',\n",
       " '',\n",
       " 'In a televised address from the White House Rose Garden earlier Saturday, the president said he would take his case to Congress, not because he has to -- but because he wants to.',\n",
       " '',\n",
       " '\"While I believe I have the authority to carry out this military action without specific congressional authorization, I know that the country will be stronger if we take this course, and our actions will be even more effective,\" he said. \"We should have this debate, because the issues are too big for business as usual.\"',\n",
       " '',\n",
       " 'Obama said top congressional leaders had agreed to schedule a debate when the body returns to Washington on September 9. The Senate Foreign Relations Committee will hold a hearing over the matter on Tuesday, Sen. Robert Menendez said.',\n",
       " '',\n",
       " \"Transcript: Read Obama's full remarks\",\n",
       " '',\n",
       " 'Syrian crisis: Latest developments',\n",
       " '',\n",
       " 'U.N. inspectors leave Syria',\n",
       " '',\n",
       " \"Obama's remarks came shortly after U.N. inspectors left Syria, carrying evidence that will determine whether chemical weapons were used in an attack early last week in a Damascus suburb.\",\n",
       " '',\n",
       " '\"The aim of the game here, the mandate, is very clear -- and that is to ascertain whether chemical weapons were used -- and not by whom,\" U.N. spokesman Martin Nesirky told reporters on Saturday.',\n",
       " '',\n",
       " 'But who used the weapons in the reported toxic gas attack in a Damascus suburb on August 21 has been a key point of global debate over the Syrian crisis.',\n",
       " '',\n",
       " \"Top U.S. officials have said there's no doubt that the Syrian government was behind it, while Syrian officials have denied responsibility and blamed jihadists fighting with the rebels.\",\n",
       " '',\n",
       " 'British and U.S. intelligence reports say the attack involved chemical weapons, but U.N. officials have stressed the importance of waiting for an official report from inspectors.',\n",
       " '',\n",
       " \"The inspectors will share their findings with U.N. Secretary-General Ban Ki-moon Ban, who has said he wants to wait until the U.N. team's final report is completed before presenting it to the U.N. Security Council.\",\n",
       " '',\n",
       " 'The Organization for the Prohibition of Chemical Weapons, which nine of the inspectors belong to, said Saturday that it could take up to three weeks to analyze the evidence they collected.',\n",
       " '',\n",
       " '\"It needs time to be able to analyze the information and the samples,\" Nesirky said.',\n",
       " '',\n",
       " 'He noted that Ban has repeatedly said there is no alternative to a political solution to the crisis in Syria, and that \"a military solution is not an option.\"',\n",
       " '',\n",
       " 'Bergen:  Syria is a problem from hell for the U.S.',\n",
       " '',\n",
       " \"Obama: 'This menace must be confronted'\",\n",
       " '',\n",
       " \"Obama's senior advisers have debated the next steps to take, and the president's comments Saturday came amid mounting political pressure over the situation in Syria. Some U.S. lawmakers have called for immediate action while others warn of stepping into what could become a quagmire.\",\n",
       " '',\n",
       " \"Some global leaders have expressed support, but the British Parliament's vote against military action earlier this week was a blow to Obama's hopes of getting strong backing from key NATO allies.\",\n",
       " '',\n",
       " 'On Saturday, Obama proposed what he said would be a limited military action against Syrian President Bashar al-Assad. Any military attack would not be open-ended or include U.S. ground forces, he said.',\n",
       " '',\n",
       " 'Syria\\'s alleged use of chemical weapons earlier this month \"is an assault on human dignity,\" the president said.',\n",
       " '',\n",
       " 'A failure to respond with force, Obama argued,  \"could lead to escalating use of chemical weapons or their proliferation to terrorist groups who would do our people harm. In a world with many dangers, this menace must be confronted.\"',\n",
       " '',\n",
       " 'Syria missile strike: What would happen next?',\n",
       " '',\n",
       " 'Map: U.S. and allied assets around Syria',\n",
       " '',\n",
       " 'Obama decision came Friday night',\n",
       " '',\n",
       " 'On Friday night, the president made a last-minute decision to consult lawmakers.',\n",
       " '',\n",
       " 'What will happen if they vote no?',\n",
       " '',\n",
       " \"It's unclear. A senior administration official told CNN that Obama has the authority to act without Congress -- even if Congress rejects his request for authorization to use force.\",\n",
       " '',\n",
       " 'Obama on Saturday continued to shore up support for a strike on the al-Assad government.',\n",
       " '',\n",
       " 'He spoke by phone with French President Francois Hollande before his Rose Garden speech.',\n",
       " '',\n",
       " '\"The two leaders agreed that the international community must deliver a resolute message to the Assad regime -- and others who would consider using chemical weapons -- that these crimes are unacceptable and those who violate this international norm will be held accountable by the world,\" the White House said.',\n",
       " '',\n",
       " 'Meanwhile, as uncertainty loomed over how Congress would weigh in, U.S. military officials said they remained at the ready.',\n",
       " '',\n",
       " '5 key assertions: U.S. intelligence report on Syria',\n",
       " '',\n",
       " 'Syria: Who wants what after chemical weapons horror',\n",
       " '',\n",
       " \"Reactions mixed to Obama's speech\",\n",
       " '',\n",
       " \"A spokesman for the Syrian National Coalition said that the opposition group was disappointed by Obama's announcement.\",\n",
       " '',\n",
       " '\"Our fear now is that the lack of action could embolden the regime and they repeat his attacks in a more serious way,\" said spokesman Louay Safi. \"So we are quite concerned.\"',\n",
       " '',\n",
       " \"Some members of Congress applauded Obama's decision.\",\n",
       " '',\n",
       " 'House Speaker John Boehner, Majority Leader Eric Cantor, Majority Whip Kevin McCarthy and Conference Chair Cathy McMorris Rodgers issued a statement Saturday praising the president.',\n",
       " '',\n",
       " '\"Under the Constitution, the responsibility to declare war lies with Congress,\" the Republican lawmakers said. \"We are glad the president is seeking authorization for any military action in Syria in response to serious, substantive questions being raised.\"',\n",
       " '',\n",
       " 'More than 160 legislators, including 63 of Obama\\'s fellow Democrats, had signed letters calling for either a vote or at least a \"full debate\" before any U.S. action.',\n",
       " '',\n",
       " \"British Prime Minister David Cameron, whose own attempt to get lawmakers in his country to support military action in Syria failed earlier this week, responded to Obama's speech in a Twitter post Saturday.\",\n",
       " '',\n",
       " '\"I understand and support Barack Obama\\'s position on Syria,\" Cameron said.',\n",
       " '',\n",
       " 'An influential lawmaker in Russia -- which has stood by Syria and criticized the United States -- had his own theory.',\n",
       " '',\n",
       " '\"The main reason Obama is turning to the Congress:  the military operation did not get enough support either in the world, among allies of the US or in the United States itself,\" Alexei Pushkov, chairman of the international-affairs committee of the Russian State Duma, said in a Twitter post.',\n",
       " '',\n",
       " 'In the United States, scattered groups of anti-war protesters around the country took to the streets Saturday.',\n",
       " '',\n",
       " '\"Like many other Americans...we\\'re just tired of the United States getting involved and invading and bombing other countries,\" said Robin Rosecrans, who was among hundreds at a Los Angeles demonstration.',\n",
       " '',\n",
       " \"What do Syria's neighbors think?\",\n",
       " '',\n",
       " 'Why Russia, China, Iran stand by Assad',\n",
       " '',\n",
       " \"Syria's government unfazed\",\n",
       " '',\n",
       " 'After Obama\\'s speech, a military and political analyst on Syrian state TV said Obama is \"embarrassed\" that Russia opposes military action against Syria, is \"crying for help\" for someone to come to his rescue and is facing two defeats -- on the political and military levels.',\n",
       " '',\n",
       " \"Syria's prime minister appeared unfazed by the saber-rattling.\",\n",
       " '',\n",
       " '\"The Syrian Army\\'s status is on maximum readiness and fingers are on the trigger to confront all challenges,\" Wael Nader al-Halqi said during a meeting with a delegation of Syrian expatriates from Italy, according to a banner on Syria State TV that was broadcast prior to Obama\\'s address.',\n",
       " '',\n",
       " 'An anchor on Syrian state television said Obama \"appeared to be preparing for an aggression on Syria based on repeated lies.\"',\n",
       " '',\n",
       " 'A top Syrian diplomat told the state television network that Obama was facing pressure to take military action from Israel, Turkey, some Arabs and right-wing extremists in the United States.',\n",
       " '',\n",
       " '\"I think he has done well by doing what Cameron did in terms of taking the issue to Parliament,\" said Bashar Jaafari, Syria\\'s ambassador to the United Nations.',\n",
       " '',\n",
       " 'Both Obama and Cameron, he said, \"climbed to the top of the tree and don\\'t know how to get down.\"',\n",
       " '',\n",
       " 'The Syrian government has denied that it used chemical weapons in the August 21 attack, saying that jihadists fighting with the rebels used them in an effort to turn global sentiments against it.',\n",
       " '',\n",
       " 'British intelligence had put the number of people killed in the attack at more than 350.',\n",
       " '',\n",
       " 'On Saturday, Obama said \"all told, well over 1,000 people were murdered.\" U.S. Secretary of State John Kerry on Friday cited a death toll of 1,429, more than 400 of them children. No explanation was offered for the discrepancy.',\n",
       " '',\n",
       " \"Iran: U.S. military action in Syria would spark 'disaster'\",\n",
       " '',\n",
       " 'Opinion: Why strikes in Syria are a bad idea']"
      ]
     },
     "execution_count": 166,
     "metadata": {},
     "output_type": "execute_result"
    }
   ],
   "source": [
    "lst"
   ]
  },
  {
   "cell_type": "code",
   "execution_count": null,
   "metadata": {},
   "outputs": [],
   "source": [
    "\n",
    "for i in article_lists:\n",
    "    "
   ]
  },
  {
   "cell_type": "code",
   "execution_count": null,
   "metadata": {},
   "outputs": [],
   "source": []
  },
  {
   "cell_type": "code",
   "execution_count": null,
   "metadata": {},
   "outputs": [],
   "source": []
  },
  {
   "cell_type": "code",
   "execution_count": null,
   "metadata": {},
   "outputs": [],
   "source": []
  },
  {
   "cell_type": "code",
   "execution_count": null,
   "metadata": {},
   "outputs": [],
   "source": []
  }
 ],
 "metadata": {
  "hide_input": false,
  "kernelspec": {
   "display_name": "Python 3",
   "language": "python",
   "name": "python3"
  },
  "language_info": {
   "codemirror_mode": {
    "name": "ipython",
    "version": 3
   },
   "file_extension": ".py",
   "mimetype": "text/x-python",
   "name": "python",
   "nbconvert_exporter": "python",
   "pygments_lexer": "ipython3",
   "version": "3.6.3"
  },
  "toc": {
   "nav_menu": {},
   "number_sections": true,
   "sideBar": true,
   "skip_h1_title": false,
   "toc_cell": false,
   "toc_position": {},
   "toc_section_display": "block",
   "toc_window_display": false
  },
  "varInspector": {
   "cols": {
    "lenName": 16,
    "lenType": 16,
    "lenVar": 40
   },
   "kernels_config": {
    "python": {
     "delete_cmd_postfix": "",
     "delete_cmd_prefix": "del ",
     "library": "var_list.py",
     "varRefreshCmd": "print(var_dic_list())"
    },
    "r": {
     "delete_cmd_postfix": ") ",
     "delete_cmd_prefix": "rm(",
     "library": "var_list.r",
     "varRefreshCmd": "cat(var_dic_list()) "
    }
   },
   "types_to_exclude": [
    "module",
    "function",
    "builtin_function_or_method",
    "instance",
    "_Feature"
   ],
   "window_display": false
  }
 },
 "nbformat": 4,
 "nbformat_minor": 2
}
